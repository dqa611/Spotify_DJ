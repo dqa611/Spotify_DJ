{
 "cells": [
  {
   "cell_type": "markdown",
   "metadata": {},
   "source": [
    "# Introduction"
   ]
  },
  {
   "cell_type": "markdown",
   "metadata": {},
   "source": [
    "This notebook will pull a Spotify playlist's data using Spotipy libraries and Spotify API.\n",
    "\n",
    "For more information, please visit https://spotipy.readthedocs.io/en/latest/. Watch https://www.youtube.com/watch?v=vipVEWe86Lg&t=242s for more information\n",
    "\n",
    "The required inputs for this notebooks are as followings: \n",
    "- Spotify Client ID and Secret key, which can be found in Spotify Dashboard\n",
    "- User's Spotify ID\n",
    "- Playlist"
   ]
  },
  {
   "cell_type": "markdown",
   "metadata": {},
   "source": [
    "Import Libraries"
   ]
  },
  {
   "cell_type": "code",
   "execution_count": null,
   "metadata": {},
   "outputs": [],
   "source": [
    "import urllib.request\n",
    "from urllib.request import urlopen\n",
    "\n",
    "import sys\n",
    "import spotipy\n",
    "import spotipy.util as util\n",
    "import os\n",
    "import json\n",
    "import webbrowser\n",
    "from json.decoder import JSONDecodeError"
   ]
  },
  {
   "cell_type": "markdown",
   "metadata": {},
   "source": [
    "Expand Screen"
   ]
  },
  {
   "cell_type": "code",
   "execution_count": 117,
   "metadata": {},
   "outputs": [
    {
     "data": {
      "text/html": [
       "<style>.container { width:100% !important; }</style>"
      ],
      "text/plain": [
       "<IPython.core.display.HTML object>"
      ]
     },
     "metadata": {},
     "output_type": "display_data"
    }
   ],
   "source": [
    "from IPython.core.display import display, HTML\n",
    "display(HTML(\"<style>.container { width:100% !important; }</style>\"))"
   ]
  },
  {
   "cell_type": "markdown",
   "metadata": {},
   "source": [
    "# Input"
   ]
  },
  {
   "cell_type": "code",
   "execution_count": 128,
   "metadata": {},
   "outputs": [],
   "source": [
    "# My Spotify ID: https://open.spotify.com/user/1214868237\n",
    "user_spotify_id = '1214868237'\n",
    "user_spotify_name = 'anhquocduong611'\n",
    "\n",
    "USERNAME = sys.argv[1] \n",
    "CLIENT_ID = '6efd3e7d946d45b2ae1c1cd274dd8a51'# Go to Spotify App Developer Dashboard\n",
    "CLIENT_SECRET = 'a424e3ab68364de18e90295467dafb7c' # Go to Spotify App Developer Dashboard\n",
    "REDIRECT_URI = 'http://google.com/' # Set it as 'http://google.com/'\n",
    "SCOPE = 'user-library-read' # will give user to modify"
   ]
  },
  {
   "cell_type": "code",
   "execution_count": 119,
   "metadata": {},
   "outputs": [],
   "source": [
    "playlist_name = 'Anjunadeep'"
   ]
  },
  {
   "cell_type": "markdown",
   "metadata": {},
   "source": [
    "# Script Body"
   ]
  },
  {
   "cell_type": "markdown",
   "metadata": {},
   "source": [
    "###### Get access using API"
   ]
  },
  {
   "cell_type": "code",
   "execution_count": 120,
   "metadata": {},
   "outputs": [],
   "source": [
    "try:\n",
    "    token = util.prompt_for_user_token(username = USERNAME, \n",
    "                                   scope = SCOPE, \n",
    "                                   client_id = CLIENT_ID, \n",
    "                                   client_secret = CLIENT_SECRET, \n",
    "                                   redirect_uri = REDIRECT_URI)\n",
    "except:\n",
    "    os.remove(f\".cache~{username}\")\n",
    "    token = util.prompt_for_user_token(username = USERNAME, \n",
    "                                   scope = SCOPE, \n",
    "                                   client_id = CLIENT_ID, \n",
    "                                   client_secret = CLIENT_SECRET, \n",
    "                                   redirect_uri = REDIRECT_URI)\n",
    "sp = spotipy.Spotify(auth=token)"
   ]
  },
  {
   "cell_type": "markdown",
   "metadata": {},
   "source": [
    "### Get User's Playlist"
   ]
  },
  {
   "cell_type": "code",
   "execution_count": 121,
   "metadata": {},
   "outputs": [
    {
     "name": "stdout",
     "output_type": "stream",
     "text": [
      "Anjunadeep\n",
      "Total tracks 35\n",
      "[(0, 'Eli & Fur', 'Night Blooming Jasmine - Rodriguez Jr. Remix Edit', 'Night Blooming Jasmine (Rodriguez Jr. Remix)'), (1, 'Yotto', 'North', 'North'), (2, 'Gabriel & Dresden', 'Sequoia - Edit', 'The Only Road'), (3, 'Jan Blomqvist', 'The Space In Between', 'Disconnected'), (4, 'Solomun', \"Somebody's Story\", 'Black Label #36'), (5, 'Einmusik', 'Tainted', 'Pristine'), (6, 'Worakls', 'Nocturne', 'Hungry 5 (The Best of 5 Years)'), (7, 'Solomun', 'The Way Back', 'Black Label #36'), (8, 'Claptone', 'Heartbeat (feat. Nathan Nicholson)', 'Charmer'), (9, 'Dominik Eulberg', 'Dream Machine', 'Dream Machine'), (10, 'Worakls', 'Toi', 'Hungry 5 (The Best of 5 Years)'), (11, 'Luttrell', 'Contact', 'Anjunadeep 09'), (12, 'Gallago', 'Lost Signal', 'Anjunadeep 09'), (13, 'SOHN', 'Lights - SQL Remix', 'Anjunadeep 09'), (14, 'Gacha Bakradze', 'Contactless', 'Anjunadeep 09'), (15, 'Modd', 'Abenaki', 'Anjunadeep 09'), (16, 'Jody Wisternoff', 'For All Time', 'Anjunadeep 09'), (17, 'L. Doblado', 'Lie Alone - 16BL Remix', 'Anjunadeep 09'), (18, 'Yotto', 'Aura', 'Anjunadeep 09'), (19, 'David Hohme', 'Soft Landing - Jody Wisternoff & James Grant Remix', 'Anjunadeep 09'), (20, 'Yotto', 'Personal Space', 'Personal Space / Mulholland 99'), (21, 'Yotto', 'Walls - Joris Voorn Remix', 'Walls (Joris Voorn Remix)'), (22, 'Yotto', 'Kantsu', 'Hyperfall'), (23, 'Yotto', 'Odd One Out', 'Hyperfall'), (24, 'Spencer Brown', 'Safeway Sushi', 'Anjunadeep In Ibiza 2019'), (25, 'Kiasmos', 'Looped', 'Kiasmos'), (26, 'Lane 8', 'Diamonds - Original Mix', 'Diamonds / Without You'), (27, 'Ben Böhmer', 'Flug & Fall - Edit', 'Anjunadeep Explorations 04'), (28, '16BL', 'Deep In My Soul - Original Mix', 'Deep In My Soul EP'), (29, 'Jody Wisternoff', 'The Bridge - Anjunadeep 07 Mix', 'Anjunadeep 07'), (30, 'Lane 8', 'Little Voices', 'Little Voices'), (31, 'Dee Montero', 'In The Wild', 'In The Wild / Polaris'), (32, 'Way Out West', 'Tuesday Maybe - Modd Remix', 'Tuesday Maybe (Remixed)'), (33, 'Dosem', 'Not A Coincidence', 'Not A Coincidence / Why Give Up Before We Try'), (34, 'Dosem', 'Why Give Up Before We Try', 'Not A Coincidence / Why Give Up Before We Try')]\n"
     ]
    }
   ],
   "source": [
    "# Funciton to show track\n",
    "def show_tracks(tracks):\n",
    "    track_list = []\n",
    "    for i, item in enumerate(tracks['items']):\n",
    "        track = item['track']\n",
    "        track_list.append((i, track['artists'][0]['name'], track['name'], track['album']['name']))\n",
    "    return track_list\n",
    "\n",
    "# Get playlist from Spotify API\n",
    "playlists = sp.user_playlists(user_spotify_id)\n",
    "\n",
    "for playlist in playlists['items']:\n",
    "    if playlist['owner']['id'] == user_spotify_id and playlist['name'] ==playlist_name:\n",
    "        print(playlist['name'])\n",
    "        print('Total tracks', playlist['tracks']['total'])\n",
    "        results = sp.user_playlist(user_spotify_id, playlist['id'], fields=\"tracks,next\")\n",
    "        tracks = results['tracks']\n",
    "        my_playlist = show_tracks(tracks)\n",
    "        while tracks['next']:\n",
    "            tracks = sp.next(tracks)\n",
    "            my_playlist = show_tracks(tracks)\n",
    "        print(my_playlist)"
   ]
  },
  {
   "cell_type": "markdown",
   "metadata": {},
   "source": [
    "Format the track name"
   ]
  },
  {
   "cell_type": "code",
   "execution_count": 122,
   "metadata": {
    "scrolled": true
   },
   "outputs": [],
   "source": [
    "for i in range(len(my_playlist)):\n",
    "    my_playlist[i] = list(my_playlist[i])\n",
    "\n",
    "# Remove character ' in the track data\n",
    "for i in range(len(my_playlist)):\n",
    "    for y in range(1,3):\n",
    "        my_playlist[i][y] = my_playlist[i][y].replace(\"'\",\"\")"
   ]
  },
  {
   "cell_type": "markdown",
   "metadata": {},
   "source": [
    "### Get Track's ID"
   ]
  },
  {
   "cell_type": "code",
   "execution_count": 123,
   "metadata": {},
   "outputs": [],
   "source": [
    "def search_track_id(track_name, artist, album):\n",
    "    # Create a dictionary for result\n",
    "    search_result = dict.fromkeys(['track_name', 'artist', 'album', 'track_id', 'popularity'])\n",
    "    \n",
    "    # Limit number of raw result output of 10 and market in US\n",
    "    # Search by Track name first\n",
    "    if album == '':\n",
    "        album = '{}'\n",
    "    else: \n",
    "        album = album\n",
    "       \n",
    "    searched_raw_result = sp.search(q=\"album: \"+ album + \" artist: \" + artist + \" track: \" + track_name, limit=1, type='track', market=None)\n",
    "    # Search by Artist name\n",
    "    searched_raw_result1 = searched_raw_result['tracks']['items']\n",
    "    \n",
    "    if len(searched_raw_result1) >0:\n",
    "        search_result.update(track_name = searched_raw_result1[0]['name'],\n",
    "                             artist = searched_raw_result1[0]['album']['artists'][0]['name'], \n",
    "                             album = searched_raw_result1[0]['album']['name'],\n",
    "                             track_id = searched_raw_result1[0]['uri'][14:],\n",
    "                             popularity = searched_raw_result1[0]['popularity'])\n",
    "    return search_result"
   ]
  },
  {
   "cell_type": "markdown",
   "metadata": {},
   "source": [
    "### Get Track Data from User's Playlist"
   ]
  },
  {
   "cell_type": "code",
   "execution_count": 124,
   "metadata": {},
   "outputs": [],
   "source": [
    "playlist_data = []\n",
    "for i in range(len(my_playlist)):\n",
    "    # Get Track ID by track name, artist and album collected from the playlist\n",
    "    track_find_id = search_track_id(track_name = my_playlist[i][2], artist = my_playlist[i][1], album = my_playlist[i][3])\n",
    "\n",
    "    # Get Track Audio Features\n",
    "    track_audio_features = sp.audio_features(track_find_id['track_id'])\n",
    "    \n",
    "    # Get Track Audio Analysis\n",
    "    audio_analysis_dict = dict.fromkeys(['sections'])\n",
    "    audio_analysis_dict.update(sections = sp.audio_analysis(track_find_id['track_id'])['sections'])\n",
    "\n",
    "    # Merge 2 dictionaries into one\n",
    "    track_audio_data = dict(track_audio_features[0], **audio_analysis_dict)\n",
    "    track_data = dict(track_find_id, **track_audio_data)\n",
    "    \n",
    "    playlist_data.append(track_data)"
   ]
  },
  {
   "cell_type": "markdown",
   "metadata": {},
   "source": [
    "###### Sample"
   ]
  },
  {
   "cell_type": "code",
   "execution_count": 125,
   "metadata": {
    "scrolled": true
   },
   "outputs": [
    {
     "name": "stdout",
     "output_type": "stream",
     "text": [
      "dict_keys(['track_name', 'artist', 'album', 'track_id', 'popularity', 'danceability', 'energy', 'key', 'loudness', 'mode', 'speechiness', 'acousticness', 'instrumentalness', 'liveness', 'valence', 'tempo', 'type', 'id', 'uri', 'track_href', 'analysis_url', 'duration_ms', 'time_signature', 'sections'])\n"
     ]
    }
   ],
   "source": [
    "print(playlist_data[0].keys())"
   ]
  },
  {
   "cell_type": "code",
   "execution_count": 130,
   "metadata": {},
   "outputs": [],
   "source": [
    "import json\n",
    "json = json.dumps(playlist_data)\n",
    "\n",
    "f = open(\"C:/Users/anhqu/OneDrive/Desktop/QAs/QA github folder/\" +  user_spotify_name + '_' + playlist_name + \"_playlist_data.json\",\"w\")\n",
    "f.write(json)\n",
    "f.close()"
   ]
  }
 ],
 "metadata": {
  "kernelspec": {
   "display_name": "Python 3",
   "language": "python",
   "name": "python3"
  },
  "language_info": {
   "codemirror_mode": {
    "name": "ipython",
    "version": 3
   },
   "file_extension": ".py",
   "mimetype": "text/x-python",
   "name": "python",
   "nbconvert_exporter": "python",
   "pygments_lexer": "ipython3",
   "version": "3.7.0"
  }
 },
 "nbformat": 4,
 "nbformat_minor": 2
}
