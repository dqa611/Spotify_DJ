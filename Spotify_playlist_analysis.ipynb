{
 "cells": [
  {
   "cell_type": "markdown",
   "metadata": {},
   "source": [
    "# Introduction"
   ]
  },
  {
   "cell_type": "markdown",
   "metadata": {},
   "source": [
    "##### This note book will do 2 things:\n",
    "\n",
    "1- Analyze playlist's summary statistics\n",
    "\n",
    "2- The algorithm will find the most similar track to the previous track. Therefore, the first track you enter will determine the entire set\n",
    "\n",
    "##### Inputs:\n",
    "\n",
    "1- Enter username and local address\n",
    "\n",
    "2- Import json file(s)\n",
    "\n",
    "3- Enter set duration and first track"
   ]
  },
  {
   "cell_type": "markdown",
   "metadata": {},
   "source": [
    "###### Import Libraries"
   ]
  },
  {
   "cell_type": "code",
   "execution_count": null,
   "metadata": {},
   "outputs": [],
   "source": [
    "import urllib.request\n",
    "from urllib.request import urlopen\n",
    "\n",
    "import sys\n",
    "import spotipy\n",
    "import spotipy.util as util\n",
    "import os\n",
    "import json\n",
    "import webbrowser\n",
    "from json.decoder import JSONDecodeError"
   ]
  },
  {
   "cell_type": "code",
   "execution_count": null,
   "metadata": {},
   "outputs": [],
   "source": [
    "import pandas as pd\n",
    "import numpy as np\n",
    "\n",
    "from scipy import stats\n",
    "\n",
    "from sklearn.linear_model import LinearRegression\n",
    "lr = LinearRegression()\n",
    "from numpy import arange,array,ones\n",
    "import matplotlib.pyplot as plt\n",
    "import matplotlib.patches as mpatches\n",
    "import matplotlib.ticker as ticker\n",
    "import seaborn as sns\n",
    "\n",
    "# Set font scale\n",
    "sns.set(font_scale=1.5)\n",
    "\n",
    "import itertools\n",
    "\n",
    "from scipy import optimize\n",
    "from scipy.optimize import minimize"
   ]
  },
  {
   "cell_type": "markdown",
   "metadata": {},
   "source": [
    "###### Expand Screen"
   ]
  },
  {
   "cell_type": "code",
   "execution_count": null,
   "metadata": {
    "scrolled": false
   },
   "outputs": [],
   "source": [
    "from IPython.core.display import display, HTML\n",
    "display(HTML(\"<style>.container { width:100% !important; }</style>\"))"
   ]
  },
  {
   "cell_type": "markdown",
   "metadata": {},
   "source": [
    "# Load Data"
   ]
  },
  {
   "cell_type": "markdown",
   "metadata": {},
   "source": [
    "##### User can add one or more playlists to combine a track pool"
   ]
  },
  {
   "cell_type": "code",
   "execution_count": null,
   "metadata": {
    "scrolled": true
   },
   "outputs": [],
   "source": [
    "def import_data(file_name):\n",
    "    json_file_name = file_name+'.json'\n",
    "    raw_source = local_address + json_file_name\n",
    "\n",
    "    with open(raw_source) as json_file:\n",
    "        playlist_data = json.load(json_file)    \n",
    "    \n",
    "    return playlist_data"
   ]
  },
  {
   "cell_type": "code",
   "execution_count": null,
   "metadata": {},
   "outputs": [],
   "source": [
    "playlist_data = []\n",
    "stop_importing = ''\n",
    "file_name = ''\n",
    "\n",
    "while stop_importing != 'y':\n",
    "    file_name = input('Enter file name without .json: ')\n",
    "    playlist_data.append(import_data(file_name))\n",
    "    print('\\n')\n",
    "    print('Number of track imported from playlist: ' + str(len(import_data(file_name))))\n",
    "    stop_importing = input('Enter y to stop importing. Otherwise enter anything: ')\n",
    "    print('\\n')\n",
    "\n",
    "playlist_data = list(itertools.chain(*playlist_data))\n",
    "print('Total Number of Track in Track pool: ' + str(len(playlist_data)))"
   ]
  },
  {
   "cell_type": "markdown",
   "metadata": {},
   "source": [
    "# Body Script"
   ]
  },
  {
   "cell_type": "markdown",
   "metadata": {},
   "source": [
    "### Get Summary Statistics about the Playlist"
   ]
  },
  {
   "cell_type": "code",
   "execution_count": null,
   "metadata": {},
   "outputs": [],
   "source": [
    "audio_data_point = ['track_name', 'duration_ms', 'popularity', 'danceability', \n",
    "                    'energy', 'key', 'mode', 'loudness', 'speechiness', 'acousticness', \n",
    "                    'instrumentalness', 'liveness', 'valence', 'tempo',]\n",
    "\n",
    "playlist_stats = dict.fromkeys(audio_data_point)\n",
    "\n",
    "for data_point in audio_data_point:\n",
    "    audio_stats = []\n",
    "    for i in range(len(playlist_data)):\n",
    "        audio_stats.append(playlist_data[i][data_point])\n",
    "        playlist_stats[data_point] = audio_stats"
   ]
  },
  {
   "cell_type": "code",
   "execution_count": null,
   "metadata": {},
   "outputs": [],
   "source": [
    "data_point_plot = ['popularity', 'danceability', 'energy', 'loudness', 'speechiness', 'valence', 'tempo']\n",
    "data_point_comb = list(itertools.combinations(data_point_plot, r=2))"
   ]
  },
  {
   "cell_type": "markdown",
   "metadata": {},
   "source": [
    "#### More information about the data points"
   ]
  },
  {
   "cell_type": "markdown",
   "metadata": {},
   "source": [
    "https://developer.spotify.com/documentation/web-api/reference/tracks/get-audio-features/"
   ]
  },
  {
   "cell_type": "markdown",
   "metadata": {},
   "source": [
    "### Playlist Data Point Distribution"
   ]
  },
  {
   "cell_type": "markdown",
   "metadata": {},
   "source": [
    "Writer's opinion: a homogeneous playlist will have normal distributions among Data Points"
   ]
  },
  {
   "cell_type": "code",
   "execution_count": null,
   "metadata": {},
   "outputs": [],
   "source": [
    "def hist_plot():\n",
    "    print('Green line is average line')\n",
    "    print('Red line is median line')\n",
    "    fig = plt.figure(figsize=(30,30))\n",
    "    fig.subplots_adjust(hspace=0.8, wspace=0.8)\n",
    "    fig.suptitle('Track pool Metrics Distribution', fontsize=20)\n",
    "    for i in range(len(data_point_plot)):\n",
    "\n",
    "        ax = fig.add_subplot(6,6,i+1)\n",
    "        ax = sns.distplot(playlist_stats[data_point_plot[i]], bins='auto')\n",
    "\n",
    "        # Draw average line\n",
    "        ax.axvline(pd.DataFrame(playlist_stats[data_point_plot[i]]).mean().item(), color='green', linestyle='dashed', linewidth=1)\n",
    "        # Draw median line\n",
    "        ax.axvline(pd.DataFrame(playlist_stats[data_point_plot[i]]).median().item(), color='red', linestyle='dashed', linewidth=1)\n",
    "\n",
    "        ax.set_xlabel(data_point_plot[i], color='tomato')\n",
    "        ax.tick_params(axis='x', colors='tomato')\n",
    "        ax.tick_params(axis='y', colors='tomato')\n",
    "    return plt"
   ]
  },
  {
   "cell_type": "code",
   "execution_count": null,
   "metadata": {
    "scrolled": false
   },
   "outputs": [],
   "source": [
    "print(hist_plot())"
   ]
  },
  {
   "cell_type": "markdown",
   "metadata": {},
   "source": [
    "### Correlation Between Data Points in the Playlist"
   ]
  },
  {
   "cell_type": "code",
   "execution_count": null,
   "metadata": {
    "scrolled": false
   },
   "outputs": [],
   "source": [
    "def corre_plot():\n",
    "    fig = plt.figure(figsize=(30,30))\n",
    "    fig.subplots_adjust(hspace=0.8, wspace=0.8)\n",
    "    fig.suptitle('Correlation between Metrics', fontsize=20)\n",
    "\n",
    "    for i in range(len(data_point_comb)):\n",
    "        ax = fig.add_subplot(8,8,i+1)\n",
    "        ax = sns.regplot(playlist_stats[data_point_comb[i][0]], playlist_stats[data_point_comb[i][1]])\n",
    "        ax.set_xlabel(data_point_comb[i][0], color='tomato')\n",
    "        ax.set_ylabel(data_point_comb[i][1], color='tomato')\n",
    "        ax.tick_params(axis='x', colors='tomato')\n",
    "        ax.tick_params(axis='y', colors='tomato')\n",
    "    return plt"
   ]
  },
  {
   "cell_type": "code",
   "execution_count": null,
   "metadata": {
    "scrolled": false
   },
   "outputs": [],
   "source": [
    "print(corre_plot())"
   ]
  },
  {
   "cell_type": "markdown",
   "metadata": {},
   "source": [
    "###### Convert duration from seconds to minute"
   ]
  },
  {
   "cell_type": "code",
   "execution_count": null,
   "metadata": {},
   "outputs": [],
   "source": [
    "for i in range(len(playlist_data)):\n",
    "    for z in range(len(playlist_data[i]['sections'])):\n",
    "        playlist_data[i]['sections'][z]['start_minute'] = playlist_data[i]['sections'][z]['start']/60"
   ]
  },
  {
   "cell_type": "code",
   "execution_count": null,
   "metadata": {},
   "outputs": [],
   "source": [
    "def plot_track_mix(track_id_list):\n",
    "    for i in range(len(playlist_data)):\n",
    "        if playlist_data[i]['track_id'] in track_id_list:\n",
    "            track_index = i\n",
    "    \n",
    "    fig = plt.figure(figsize=(5,3))\n",
    "    fig.subplots_adjust(hspace=0.8, wspace=0.8)\n",
    "   \n",
    "    # Plot title by Track name and Artist\n",
    "    fig.suptitle(all_tracks_sections[track_index]['track_name'] + ' -- ' + all_tracks_sections[track_index]['artist'], color='tomato')\n",
    "\n",
    "    for key, value in enumerate(track_metrics[1:3]):\n",
    "        ax = fig.add_subplot(2,1,key+1)\n",
    "        ax = sns.lineplot(all_tracks_sections[track_index]['start_minute'], all_tracks_sections[track_index][value])\n",
    "        ax.set_ylabel(value, color='tomato', fontsize=18)\n",
    "        ax.tick_params(axis='x', colors='tomato')\n",
    "        ax.tick_params(axis='y', colors='tomato')\n",
    "        # Plot average line\n",
    "        ax.axhline(np.mean(all_tracks_sections[track_index][value]), color='green', linestyle='dashed', linewidth=1)\n",
    "        # Plot Section breakout line\n",
    "        for i in range(len(all_tracks_sections[track_index]['start_minute'])):\n",
    "            ax.axvline(all_tracks_sections[track_index]['start_minute'][i], color='purple', linestyle='dashed', linewidth=1)\n",
    "\n",
    "    ax.set_xlabel('time', color='tomato')\n",
    "    # ax.text(1, 1, 'Green line is Average \\n Purple line is Section', transform=ax.transAxes, fontsize=14,verticalalignment='bottom', color='tomato')"
   ]
  },
  {
   "cell_type": "markdown",
   "metadata": {},
   "source": [
    "### Create new data points"
   ]
  },
  {
   "cell_type": "markdown",
   "metadata": {},
   "source": [
    "Note: currently I'm not using these data points but it might be helpful once Spotify allows developers to modify playback (or I figure out how to) to transit tracks better"
   ]
  },
  {
   "cell_type": "code",
   "execution_count": null,
   "metadata": {},
   "outputs": [],
   "source": [
    "for i in range(len(playlist_data)):\n",
    "    # Duration of 1st Section\n",
    "    playlist_data[i]['duration_1st_section'] = playlist_data[i]['sections'][0]['duration']\n",
    "    # Duration of last Section\n",
    "    playlist_data[i]['duration_last_section'] = playlist_data[i]['sections'][len(playlist_data[i]['sections'])-1]['duration']\n",
    "   \n",
    "    # Tempo of 1st Section\n",
    "    playlist_data[i]['tempo_1st_section'] = playlist_data[i]['sections'][0]['tempo']\n",
    "    # Tempo of last Section\n",
    "    playlist_data[i]['tempo_last_section'] = playlist_data[i]['sections'][len(playlist_data[i]['sections'])-1]['tempo']  \n",
    "    \n",
    "    # Key of 1st Section\n",
    "    playlist_data[i]['key_1st_section'] = playlist_data[i]['sections'][0]['key']\n",
    "    # Key of last Section\n",
    "    playlist_data[i]['key_last_section'] = playlist_data[i]['sections'][len(playlist_data[i]['sections'])-1]['key']   \n",
    "    \n",
    "    # Modality of 1st Section\n",
    "    playlist_data[i]['modality_1st_section'] = playlist_data[i]['sections'][0]['mode']\n",
    "    # Modality of last Section\n",
    "    playlist_data[i]['modality_last_section'] = playlist_data[i]['sections'][len(playlist_data[i]['sections'])-1]['mode']\n",
    "   \n",
    "    # Tempo of 2nd Section\n",
    "    playlist_data[i]['tempo_2nd_section'] = playlist_data[i]['sections'][1]['tempo']\n",
    "    # Tempo of 2nd last Section\n",
    "    playlist_data[i]['tempo_2ndlast_section'] = playlist_data[i]['sections'][len(playlist_data[i]['sections'])-2]['tempo']  \n",
    "    \n",
    "    # Key of 2nd Section\n",
    "    playlist_data[i]['key_2nd_section'] = playlist_data[i]['sections'][1]['key']\n",
    "    # Key of 2nd last Section\n",
    "    playlist_data[i]['key_2ndlast_section'] = playlist_data[i]['sections'][len(playlist_data[i]['sections'])-2]['key']     \n",
    "    \n",
    "    # Modality of 2nd Section\n",
    "    playlist_data[i]['modality_2nd_section'] = playlist_data[i]['sections'][1]['mode']\n",
    "    # Modality of 2nd last Section\n",
    "    playlist_data[i]['modality_2ndlast_section'] = playlist_data[i]['sections'][len(playlist_data[i]['sections'])-2]['mode']\n",
    "    \n",
    "    # Loudness of 2nd Section\n",
    "    playlist_data[i]['loudness_2nd_section'] = playlist_data[i]['sections'][1]['loudness']\n",
    "    # Loudness of 2nd last Section\n",
    "    playlist_data[i]['loudness_2ndlast_section'] = playlist_data[i]['sections'][len(playlist_data[i]['sections'])-2]['loudness']"
   ]
  },
  {
   "cell_type": "markdown",
   "metadata": {},
   "source": [
    "So the goal is the ending of the previous track last second will end at the end of the first section of the next track plus 1 second"
   ]
  },
  {
   "cell_type": "code",
   "execution_count": null,
   "metadata": {},
   "outputs": [],
   "source": [
    "track_transition_data = ['duration_1st_section','duration_1st_section','duration_1st_section','duration_1st_section','tempo_1st_section','tempo_last_section',\n",
    "                        'key_1st_section','key_last_section','modality_1st_section','modality_last_section','loudness_1st_section','loudness_last_section',\n",
    "                        'tempo_2nd_section','tempo_2ndlast_section','key_2nd_section','key_2ndlast_section','loudness_2nd_section','loudness_2ndlast_section']"
   ]
  },
  {
   "cell_type": "code",
   "execution_count": null,
   "metadata": {},
   "outputs": [],
   "source": [
    "def track_playlist_index(track_id):\n",
    "    for i in range(len(playlist_data)):\n",
    "        if playlist_data[i]['track_id'] == track_id:\n",
    "            track_index = i\n",
    "            return track_index\n",
    "            break\n",
    "    print('Not Found')"
   ]
  },
  {
   "cell_type": "markdown",
   "metadata": {},
   "source": [
    "### Optimization: Find the perfect next track\n",
    "\n",
    "### Functions to Select the Best Track"
   ]
  },
  {
   "cell_type": "markdown",
   "metadata": {},
   "source": [
    "1 - Harmonic keys\n",
    "\n",
    "2 - Tempo\n",
    "\n",
    "3 - Energy level\n",
    "\n",
    "4 - Valence level\n",
    "\n",
    "5 - Danceability level\n",
    "\n",
    "6 - Popularity level"
   ]
  },
  {
   "cell_type": "markdown",
   "metadata": {},
   "source": [
    "### Camelot Key Harmony Mixing"
   ]
  },
  {
   "cell_type": "markdown",
   "metadata": {},
   "source": [
    "Camelot Key is a techinque to select a track that sounds harmonically well with the previous track\n",
    "\n",
    "https://www.reddit.com/r/Beatmatch/comments/1q1pbo/the_rules_of_harmonic_mixing/"
   ]
  },
  {
   "cell_type": "code",
   "execution_count": null,
   "metadata": {},
   "outputs": [],
   "source": [
    "def get_list_info(dataset, data_point):\n",
    "    data_point_list = [dataset[i][data_point] for i in range(len(dataset))]\n",
    "    return data_point_list"
   ]
  },
  {
   "cell_type": "code",
   "execution_count": null,
   "metadata": {},
   "outputs": [],
   "source": [
    "def track_keys_input(track_id):\n",
    "    track_keys = dict.fromkeys(['key', 'mode'])\n",
    "    track_keys.update(key=playlist_data[track_playlist_index(track_id)]['key'])\n",
    "    track_keys.update(mode=playlist_data[track_playlist_index(track_id)]['mode'])\n",
    "    return track_keys"
   ]
  },
  {
   "cell_type": "code",
   "execution_count": null,
   "metadata": {},
   "outputs": [],
   "source": [
    "def camelot_system(track_keys):\n",
    "    harmonic_keys = dict.fromkeys(['key', 'mode'])\n",
    "    # Stay in the same key 4A 4A\n",
    "    same_key = harmonic_keys.copy() \n",
    "    same_key['key'] = track_keys['key']\n",
    "    same_key['mode'] = track_keys['mode']\n",
    "    same_key_list = ['same_key', same_key]\n",
    "    \n",
    "    # Move up one 4A 5A\n",
    "    one_key_up = harmonic_keys.copy()\n",
    "    one_key_up['key'] = track_keys['key']+1 if track_keys['key']!= 12 else 1\n",
    "    one_key_up['mode'] = track_keys['mode']\n",
    "    one_key_up_list = ['one_key_up', one_key_up]\n",
    "    \n",
    "    # Move down one 4A 3A\n",
    "    one_key_down = harmonic_keys.copy()\n",
    "    one_key_down['key'] = track_keys['key']-1 if track_keys['key']!= 1 else 12\n",
    "    one_key_down['mode'] = track_keys['mode']\n",
    "    one_key_down_list = ['one_key_down', one_key_down]\n",
    "    \n",
    "    # Move major 4A 4B\n",
    "    change_major = harmonic_keys.copy()\n",
    "    change_major['key'] = track_keys['key']\n",
    "    change_major['mode'] = abs(track_keys['mode']-1)\n",
    "    change_major_list = ['change_major', change_major]\n",
    "    \n",
    "    # Move major +3 4A 7B\n",
    "    change_major_3 = harmonic_keys.copy()\n",
    "    change_major_3['key'] = track_keys['key']+3 if track_keys['key']<10 else track_keys['key']-9\n",
    "    change_major_3['mode'] = abs(track_keys['mode']-1)\n",
    "    change_major_3_list = ['change_major_3', change_major_3]\n",
    "    \n",
    "    # Move up minor -3 4A 1A\n",
    "    up_minor_3 = harmonic_keys.copy()\n",
    "    up_minor_3['key'] = track_keys['key']-3 if track_keys['key']>4 else track_keys['key']+9\n",
    "    up_minor_3['mode'] = track_keys['mode']\n",
    "    up_minor_3_list = ['up_minor_3', up_minor_3]\n",
    "    \n",
    "    # Half step 4A 11A\n",
    "    half_step = harmonic_keys.copy()\n",
    "    half_step['key'] = track_keys['key']+7 if track_keys['key']<6 else track_keys['key']-5\n",
    "    half_step['mode'] = track_keys['mode']\n",
    "    half_step_list = ['half_step', half_step]\n",
    "    \n",
    "    # Whole step 4A 6A\n",
    "    whole_step = harmonic_keys.copy()\n",
    "    whole_step['key'] = track_keys['key']+2 if track_keys['key']<11 else track_keys['key']-10\n",
    "    whole_step['mode'] = track_keys['mode']\n",
    "    whole_step_list = ['whole_step', whole_step]\n",
    "    \n",
    "    # Domniant key 4A 5B\n",
    "    dominant_key = harmonic_keys.copy()\n",
    "    dominant_key['key'] = track_keys['key']+1 if track_keys['key']!=12 else 1\n",
    "    dominant_key['mode'] = abs(track_keys['mode']-1)\n",
    "    dominant_key_list = ['dominant_key', dominant_key]\n",
    "    \n",
    "    harmonic_keys_list = [same_key_list, one_key_up_list, one_key_down_list, change_major_list, change_major_3_list, up_minor_3_list, half_step_list, whole_step_list, dominant_key_list]\n",
    "    return harmonic_keys_list"
   ]
  },
  {
   "cell_type": "code",
   "execution_count": null,
   "metadata": {},
   "outputs": [],
   "source": [
    "def camelot_explained(key_name, mode):\n",
    "    if key_name == 'same_key':\n",
    "        return 'same emotion'\n",
    "   \n",
    "    if key_name == 'one_key_up':\n",
    "        return 'raise energy'\n",
    "    \n",
    "    if key_name == 'one_key_down':\n",
    "        return 'same emotion'\n",
    "    \n",
    "    if key_name == 'change_major' and mode == 0:\n",
    "        return 'brighten'\n",
    "    if key_name == 'change_major' and mode == 1:\n",
    "        return 'darken'\n",
    "    \n",
    "    if key_name == 'change_major_3' and mode == 0:\n",
    "        return 'brighten'\n",
    "    if key_name == 'change_major_3' and mode == 1:\n",
    "        return 'darken'\n",
    "    \n",
    "    if key_name == 'up_minor_3':\n",
    "        return 'raise energy'\n",
    "    \n",
    "    if key_name == 'half_step':\n",
    "        return 'raise energy'\n",
    "    \n",
    "    if key_name == 'whole_step':\n",
    "        return 'raise energy'\n",
    "    \n",
    "    if key_name == 'dominant_key' and mode == 0:\n",
    "        return 'brighten'\n",
    "    \n",
    "    if key_name == 'dominant_key' and mode == 1:\n",
    "       return 'darken'"
   ]
  },
  {
   "cell_type": "code",
   "execution_count": null,
   "metadata": {},
   "outputs": [],
   "source": [
    "def harmonic_tracks(track_index):\n",
    "    # Apply Camelot Function to get harmonic keys\n",
    "    camelot_raw = camelot_system(track_keys_input(playlist_data[track_index]['track_id']))\n",
    "    camelot_list = [camelot_raw[i][1] for i in range(len(camelot_raw))]\n",
    "    tracks = []\n",
    "    for y in range(len(playlist_data)):\n",
    "        if track_keys_input(playlist_data[y]['track_id']) in camelot_list:\n",
    "            for i in range(len(camelot_raw)):\n",
    "                if playlist_data[y]['key'] == camelot_raw[i][1]['key'] and playlist_data[y]['mode'] == camelot_raw[i][1]['mode']:\n",
    "                    tracks.append((playlist_data[y]['track_id'],\n",
    "                                   playlist_data[y]['track_name'], \n",
    "                                   camelot_raw[i], \n",
    "                                   camelot_explained(camelot_raw[i][0], playlist_data[track_index]['mode'])))\n",
    "    return tracks"
   ]
  },
  {
   "cell_type": "markdown",
   "metadata": {},
   "source": [
    "### Track Metrics Similarity"
   ]
  },
  {
   "cell_type": "code",
   "execution_count": null,
   "metadata": {},
   "outputs": [],
   "source": [
    "def next_tracks_selection(previous_track_index):\n",
    "    next_track_list = pd.DataFrame(harmonic_tracks(previous_track_index))\n",
    "    next_track_list.columns = ['track_id', 'track_name', 'keys', 'emotion_change']\n",
    "    \n",
    "    # The playlist in this loop removes any previous tracks. This playlist is different that the raw playlist\n",
    "    for y in metrics:\n",
    "        for i in range(len(next_track_list)):\n",
    "            next_track_list.loc[i,y+'%'] = round((playlist_data[track_playlist_index(next_track_list.loc[i,'track_id'])][y] - playlist_data[previous_track_index][y])*100/ \\\n",
    "                                             playlist_data[previous_track_index][y],2)\n",
    "    next_track_list['total%'] = next_track_list.iloc[:, 4:8].sum(axis=1)\n",
    "    # Drop the current track\n",
    "    next_track_list.drop(next_track_list.loc[next_track_list['total%']==0].index, inplace=True)\n",
    "    next_track_list = next_track_list.reset_index(drop=True)\n",
    "    # Drop tracks that are already selected\n",
    "    for i in range(len(next_track_list)):\n",
    "        if next_track_list.loc[i,'track_id'] in get_list_info(tracks_order, 'track_id'):\n",
    "            next_track_list.drop(i, inplace=True)\n",
    "    next_track_list = next_track_list.reset_index(drop=True)\n",
    "    return next_track_list"
   ]
  },
  {
   "cell_type": "code",
   "execution_count": null,
   "metadata": {},
   "outputs": [],
   "source": [
    "def best_next_track(previous_track_index):\n",
    "    # Print previous track name\n",
    "    print('Previous track: ' + str(playlist_data[previous_track_index]['track_name']))\n",
    "    # Apply the next track selection function\n",
    "    next_track_list = next_tracks_selection(previous_track_index)\n",
    "    # Find the index that has the closest delta to 0\n",
    "    best_next_track_index = abs(next_track_list['total%']).idxmin(axis=0)\n",
    "    # Get the emotion change \n",
    "    emotion_change = next_track_list.loc[best_next_track_index, 'emotion_change']\n",
    "    # Print the track name\n",
    "    print('Next track: ' + str(next_track_list.loc[best_next_track_index, 'track_name']))\n",
    "    # Print the similarity %\n",
    "    print('Similarity score: ' + str(round(abs(next_track_list['total%']).min(),2)))\n",
    "    # Return track id\n",
    "    next_track_id = next_track_list.loc[best_next_track_index, 'track_id']\n",
    "    return next_track_id, emotion_change"
   ]
  },
  {
   "cell_type": "markdown",
   "metadata": {},
   "source": [
    "# Create the perfect mix set from my Spotify Playlist by Python"
   ]
  },
  {
   "cell_type": "markdown",
   "metadata": {},
   "source": [
    "## Input:"
   ]
  },
  {
   "cell_type": "code",
   "execution_count": null,
   "metadata": {},
   "outputs": [],
   "source": [
    "set_time_input = input('Enter set time: ')\n",
    "set_time_input = int(set_time_input)"
   ]
  },
  {
   "cell_type": "code",
   "execution_count": null,
   "metadata": {},
   "outputs": [],
   "source": [
    "print([[key, playlist_data[key]['track_name']] for key in range(len(playlist_data))])\n",
    "previous_track_index = input('Enter first track: ')\n",
    "previous_track_index = int(previous_track_index)"
   ]
  },
  {
   "cell_type": "markdown",
   "metadata": {},
   "source": [
    "### Playlist's Summary statistics"
   ]
  },
  {
   "cell_type": "markdown",
   "metadata": {},
   "source": [
    "#### Calculate Total Duration of the Playlist"
   ]
  },
  {
   "cell_type": "code",
   "execution_count": null,
   "metadata": {},
   "outputs": [],
   "source": [
    "def convert_ms(milli):\n",
    "    seconds=(milli/1000)%60\n",
    "    minutes=(milli/(1000*60))%60\n",
    "    hours=(milli/(1000*60*60))%24\n",
    "    \n",
    "    hour_read = str(int(hours))+':'+str(int(minutes))+':'+str(int(seconds))\n",
    "    minute_read = round(int(hours)*60 + minutes, 2)\n",
    "    return hour_read, minute_read"
   ]
  },
  {
   "cell_type": "code",
   "execution_count": null,
   "metadata": {
    "scrolled": true
   },
   "outputs": [],
   "source": [
    "playlist_duration_ms = 0\n",
    "for i in range(len(playlist_data)):\n",
    "    playlist_duration_ms += playlist_data[i]['duration_ms']\n",
    "    playlist_data[i]['duration_minute'] = convert_ms(playlist_data[i]['duration_ms'])[1]\n",
    "    playlist_duration = convert_ms(playlist_duration_ms)\n",
    "print('Playlist total length: ')\n",
    "print(playlist_duration)"
   ]
  },
  {
   "cell_type": "code",
   "execution_count": null,
   "metadata": {
    "scrolled": false
   },
   "outputs": [],
   "source": [
    "previous_track = playlist_data[previous_track_index]\n",
    "tracks_order = [previous_track]\n",
    "\n",
    "set_duration = 0\n",
    "i = 0\n",
    "emotion_change_list = ['start']\n",
    "\n",
    "metrics = ['tempo', 'danceability', 'energy', 'valence', 'popularity']\n",
    "\n",
    "while set_duration <= set_time_input:\n",
    "    previous_track = playlist_data[previous_track_index]\n",
    "    previous_track_sections = previous_track['sections']\n",
    "\n",
    "    # Apply function to get track id, then find the track index in the playlist\n",
    "    select_next_track = best_next_track(previous_track_index)\n",
    "    next_track_index = track_playlist_index(select_next_track[0])\n",
    "    next_track = playlist_data[next_track_index]\n",
    "    print('Next track index: ' + str(next_track_index))\n",
    "    print('\\n')\n",
    "\n",
    "    tracks_order.append(next_track)\n",
    "    emotion_change_list.append(select_next_track[1])\n",
    "    # Calculate total time of the set\n",
    "    set_duration += tracks_order[i]['duration_minute']\n",
    "    i+=1\n",
    "\n",
    "    previous_track_index = next_track_index\n",
    "    \n",
    "print('Total set time: ' + str(round(set_duration,2)))\n",
    "print('Number of Tracks: ' + str(len(tracks_order)))\n",
    "print('\\n')"
   ]
  },
  {
   "cell_type": "markdown",
   "metadata": {},
   "source": [
    "### Plot Set"
   ]
  },
  {
   "cell_type": "code",
   "execution_count": null,
   "metadata": {},
   "outputs": [],
   "source": [
    "# Get Set info\n",
    "set_track_name = get_list_info(tracks_order, 'track_name')\n",
    "set_track_id =  get_list_info(tracks_order, 'track_id')\n",
    "set_time =  get_list_info(tracks_order, 'duration_minute')\n",
    "set_energy = get_list_info(tracks_order, 'energy')\n",
    "set_artist = get_list_info(tracks_order, 'artist')"
   ]
  },
  {
   "cell_type": "code",
   "execution_count": null,
   "metadata": {},
   "outputs": [],
   "source": [
    "# Create Culmulative Set Time\n",
    "set_time_cum = []\n",
    "for i in range(len(tracks_order)):\n",
    "    set_time_cum.append(tracks_order[i]['duration_minute'])\n",
    "set_time_cum = list(np.cumsum(set_time_cum))\n",
    "set_time_cum = [float(round(set_time_cum[i],2)) for i in range(len(tracks_order))]\n",
    "# Remove the last set time\n",
    "set_time_cum.pop()\n",
    "# Add 0 to the set\n",
    "set_time_cum.insert(0,0)\n",
    "\n",
    "# Create Metrics list for the set\n",
    "set_metrics = dict.fromkeys(metrics)\n",
    "for y in range(len(metrics)):\n",
    "    set_metrics[metrics[y]] = [tracks_order[i][metrics[y]] for i in range(len(tracks_order))]\n",
    "\n",
    "color_array = []\n",
    "for i in range(len(emotion_change_list)):\n",
    "    if emotion_change_list[i] == 'raise energy':\n",
    "        color_array.append('salmon')\n",
    "    if emotion_change_list[i] == 'brighten':\n",
    "        color_array.append('lightsteelblue')\n",
    "    if emotion_change_list[i] == 'darken':\n",
    "        color_array.append('grey')\n",
    "    if emotion_change_list[i] == 'same emotion':\n",
    "        color_array.append('mediumaquamarine')\n",
    "    if emotion_change_list[i] == 'start':\n",
    "        color_array.append('gold')\n",
    "color_array = tuple(color_array)"
   ]
  },
  {
   "cell_type": "markdown",
   "metadata": {},
   "source": [
    "### Plot Metrics"
   ]
  },
  {
   "cell_type": "code",
   "execution_count": null,
   "metadata": {},
   "outputs": [],
   "source": [
    "def set_metrics_plot(metrics):\n",
    "    height = get_list_info(tracks_order, metrics)\n",
    "    width = set_time \n",
    "    y_pos = set_time_cum\n",
    "    \n",
    "    plt.bar(y_pos, height, width=width, align='edge', color=color_array)\n",
    "    \n",
    "    plt.tick_params(axis='x', colors='tomato')\n",
    "    plt.tick_params(axis='y', colors='tomato')\n",
    "    plt.xticks(np.arange(round(min(set_time_cum)), round(max(set_time_cum))+5, 5.0))\n",
    "    # Adjust range axis\n",
    "    plt.ylim([min(height)-max(height)/10 if (min(height)-max(height)/10)>0 else 0, max(height)+min(height)/10])\n",
    "    \n",
    "    plt.axhline(np.mean(height), color='green', linestyle='dashed', linewidth=1)\n",
    "    plt.ylabel(metrics, color='tomato', fontsize=15)\n",
    "    #plt.xlabel('minute', color='tomato', fontsize=15)\n",
    "    plt.title(metrics, color='tomato', fontsize=15)\n",
    "    \n",
    "    # Line separate tracks\n",
    "    for i in range(len(set_time_cum)):\n",
    "        plt.axvline(set_time_cum[i], color='grey', linestyle='dashed', linewidth=1)\n",
    "        \n",
    "    # Track index on top of bar\n",
    "    for key, value in enumerate(set_time_cum):\n",
    "        plt.text(y_pos[key], height[key], key, color='purple')\n",
    "    \n",
    "    return plt"
   ]
  },
  {
   "cell_type": "markdown",
   "metadata": {},
   "source": [
    "### Plot Loudness Line"
   ]
  },
  {
   "cell_type": "code",
   "execution_count": null,
   "metadata": {},
   "outputs": [],
   "source": [
    "all_tracks_sections = []\n",
    "track_metrics_dict = [0,0,0,0,0,0,0]\n",
    "track_metrics = ['loudness', 'tempo', 'duration']\n",
    "\n",
    "for x in range(len(tracks_order)):\n",
    "    track_metrics_dict[0] = tracks_order[x]['track_name']\n",
    "    track_metrics_dict[1] = tracks_order[x]['track_id']\n",
    "    track_metrics_dict[2] = tracks_order[x]['artist']\n",
    "    track_metrics_dict[3] = tracks_order[x]['album']\n",
    "    # For each metric\n",
    "    for key, value in enumerate(track_metrics):\n",
    "        # Reset the list that collects data point \n",
    "        track_sections_data = []        \n",
    "        # For each metric, loop by the number of sections in the track\n",
    "        for z in range(len(tracks_order[x]['sections'])):\n",
    "            # Add data point to a list\n",
    "            track_sections_data.append(tracks_order[x]['sections'][z][value])\n",
    "            # Add the list to a dict of track data points\n",
    "            track_metrics_dict[key+4] = track_sections_data\n",
    "    # Add the dict to a list of tracks\n",
    "    all_tracks_sections.append(track_metrics_dict)\n",
    "    track_metrics_dict = [0,0,0,0,0,0,0]"
   ]
  },
  {
   "cell_type": "code",
   "execution_count": null,
   "metadata": {},
   "outputs": [],
   "source": [
    "def plot_track(set_track_id):\n",
    "    time = []\n",
    "    loudness = []\n",
    "    for i in range(len(all_tracks_sections)):\n",
    "        if all_tracks_sections[i][1] in set_track_id:\n",
    "            time.append(all_tracks_sections[i][6])\n",
    "            loudness.append(all_tracks_sections[i][4])   \n",
    "\n",
    "    time_flat = list(itertools.chain(*time))\n",
    "    time_cum = np.cumsum(time_flat)\n",
    "    time_cum = [time_cum[i]/60 for i in range(len(time_cum))]\n",
    "\n",
    "    loudness_flat = list(itertools.chain(*loudness))\n",
    "\n",
    "    fig = plt.figure(figsize=(25,5))\n",
    "\n",
    "    # Plot title by Track name and Artist\n",
    "    fig.suptitle('Loudness', color='tomato', fontsize=15)\n",
    "\n",
    "    ax = sns.lineplot(time_cum, loudness_flat)\n",
    "\n",
    "    ax.set_ylabel('Loudness', color='tomato')\n",
    "    ax.tick_params(axis='x', colors='tomato')\n",
    "    ax.tick_params(axis='y', colors='tomato')\n",
    "    plt.ylim([-30, 0])\n",
    "\n",
    "    # Plot Section breakout line\n",
    "    for i in range(len(set_time_cum)):\n",
    "        plt.axvline(set_time_cum[i], color='grey', linestyle='dashed', linewidth=1)\n",
    "\n",
    "    ax.set_xlabel('time', color='tomato')\n",
    "    \n",
    "    for key in range(len(set_track_id)):\n",
    "        plt.text(set_time_cum[key], 0, key, color='purple')\n",
    "    \n",
    "    return plt"
   ]
  },
  {
   "cell_type": "markdown",
   "metadata": {},
   "source": [
    "## Plot: Set Mix"
   ]
  },
  {
   "cell_type": "code",
   "execution_count": 1,
   "metadata": {
    "scrolled": false
   },
   "outputs": [
    {
     "name": "stdout",
     "output_type": "stream",
     "text": [
      "Set Mix Track Order: \n",
      "\n",
      "\n"
     ]
    },
    {
     "ename": "NameError",
     "evalue": "name 'set_track_name' is not defined",
     "output_type": "error",
     "traceback": [
      "\u001b[1;31m---------------------------------------------------------------------------\u001b[0m",
      "\u001b[1;31mNameError\u001b[0m                                 Traceback (most recent call last)",
      "\u001b[1;32m<ipython-input-1-d49bc6c9c742>\u001b[0m in \u001b[0;36m<module>\u001b[1;34m()\u001b[0m\n\u001b[0;32m      1\u001b[0m \u001b[0mprint\u001b[0m\u001b[1;33m(\u001b[0m\u001b[1;34m'Set Mix Track Order: '\u001b[0m\u001b[1;33m)\u001b[0m\u001b[1;33m\u001b[0m\u001b[0m\n\u001b[0;32m      2\u001b[0m \u001b[0mprint\u001b[0m\u001b[1;33m(\u001b[0m\u001b[1;34m'\\n'\u001b[0m\u001b[1;33m)\u001b[0m\u001b[1;33m\u001b[0m\u001b[0m\n\u001b[1;32m----> 3\u001b[1;33m \u001b[1;32mfor\u001b[0m \u001b[0mkey\u001b[0m\u001b[1;33m,\u001b[0m \u001b[0mvalue\u001b[0m \u001b[1;32min\u001b[0m \u001b[0menumerate\u001b[0m\u001b[1;33m(\u001b[0m\u001b[0mzip\u001b[0m\u001b[1;33m(\u001b[0m\u001b[0mset_track_name\u001b[0m\u001b[1;33m,\u001b[0m \u001b[0mset_artist\u001b[0m\u001b[1;33m)\u001b[0m\u001b[1;33m)\u001b[0m\u001b[1;33m:\u001b[0m\u001b[1;33m\u001b[0m\u001b[0m\n\u001b[0m\u001b[0;32m      4\u001b[0m     \u001b[0mprint\u001b[0m\u001b[1;33m(\u001b[0m\u001b[0mkey\u001b[0m\u001b[1;33m,\u001b[0m \u001b[0mvalue\u001b[0m\u001b[1;33m)\u001b[0m\u001b[1;33m\u001b[0m\u001b[0m\n\u001b[0;32m      5\u001b[0m \u001b[1;33m\u001b[0m\u001b[0m\n",
      "\u001b[1;31mNameError\u001b[0m: name 'set_track_name' is not defined"
     ]
    }
   ],
   "source": [
    "print('Set Mix Track Order: ')\n",
    "print('\\n')\n",
    "for key, value in enumerate(zip(set_track_name, set_artist)):\n",
    "    print(key, value)\n",
    "\n",
    "fig = plt.figure(figsize=(30,10))\n",
    "# Plot title by Track name and Artist\n",
    "fig.suptitle('Set Time: ' +str(round(set_duration)) +' / Total Tracks: ' + str(len(tracks_order)), color='tomato', fontsize=20)\n",
    " \n",
    "raise_energy = mpatches.Patch(color='salmon', label='Raise Energy')\n",
    "brighten = mpatches.Patch(color='lightsteelblue', label='Brighten')\n",
    "darken = mpatches.Patch(color='grey', label='Darken')\n",
    "same_emotion = mpatches.Patch(color='mediumaquamarine', label='Same Emotion')\n",
    "start = mpatches.Patch(color='gold', label='Start')\n",
    "handles = [raise_energy, brighten, darken, same_emotion, start]\n",
    "\n",
    "for i in range(len(metrics)):\n",
    "    ax = fig.add_subplot(2,3,i+1)\n",
    "    ax = set_metrics_plot(metrics[i]) \n",
    "\n",
    "plot_track(set_track_id)\n",
    "\n",
    "plt.legend(handles=handles, bbox_to_anchor=(1, 1), ncol=1)\n",
    "plt.show()"
   ]
  }
 ],
 "metadata": {
  "kernelspec": {
   "display_name": "Python 3",
   "language": "python",
   "name": "python3"
  },
  "language_info": {
   "codemirror_mode": {
    "name": "ipython",
    "version": 3
   },
   "file_extension": ".py",
   "mimetype": "text/x-python",
   "name": "python",
   "nbconvert_exporter": "python",
   "pygments_lexer": "ipython3",
   "version": "3.7.0"
  }
 },
 "nbformat": 4,
 "nbformat_minor": 2
}
